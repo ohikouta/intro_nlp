{
 "cells": [
  {
   "cell_type": "markdown",
   "id": "767bc233",
   "metadata": {},
   "source": [
    "# 10章　文の意味の解析"
   ]
  },
  {
   "cell_type": "markdown",
   "id": "86d8d285",
   "metadata": {},
   "source": [
    "ここまで、コンピュータの力が大規模にテキストを処理するのにどれくらい役に立つかということについて見てきた。そして我々はすでに構文解析器と素性ベースの文法の機構を使えるようになっている。そこで今度は、文の意味を解析することによって、何か同じくらい意義があることができないだろうか。\n",
    "\n",
    "## 本書の目的\n",
    "１．どのようにして自然言語の意味を表現し、コンピュータが処理できるようにするか。\n",
    "\n",
    "２．制約のない文に対してどのように意味表現を関連付けるか。\n",
    "\n",
    "３．文の意味表現を知識源に結びつけるプログラムをどのようにして利用するか。\n",
    "\n",
    "これらの質問に答える過程で、論理的意味論の分野における形式的な手法を学ぶことができる。さらにそうした手法を用いることで、様々な情報を格納しているデータベースに問い合わせを行う方法についても学ぶことになるだろう。"
   ]
  },
  {
   "cell_type": "markdown",
   "id": "2c109740",
   "metadata": {},
   "source": [
    "## 10.1 自然言語理解"
   ]
  },
  {
   "cell_type": "markdown",
   "id": "070f7f22",
   "metadata": {},
   "source": [
    "## 10.1.1 データベースに対する問合せ"
   ]
  },
  {
   "cell_type": "markdown",
   "id": "09b1d797",
   "metadata": {},
   "source": [
    "#### システムに問い合わせるための入力として英語を使う\n",
    "9章で説明した素性ベースの文法形式を用いると，英語からSQLへの翻訳が容易になる．\n",
    "#### 文法spl0.fcfg\n",
    "文を構文解析するのと同時に，文の意味表現をどのように組み立てるかを例示している．各句構造規則には，素性SEMに対する値を組み立てるための方法が付随している．いずれの場合も，文字列連結演算を用いて，この構成素に対応する値をつなぎ合わせることで親の構成素の値を作っている．"
   ]
  },
  {
   "cell_type": "code",
   "execution_count": 11,
   "id": "1caa7b57",
   "metadata": {},
   "outputs": [
    {
     "name": "stdout",
     "output_type": "stream",
     "text": [
      "% start S\n",
      "S[SEM=(?np + WHERE + ?vp)] -> NP[SEM=?np] VP[SEM=?vp]\n",
      "VP[SEM=(?v + ?pp)] -> IV[SEM=?v] PP[SEM=?pp]\n",
      "VP[SEM=(?v + ?ap)] -> IV[SEM=?v] AP[SEM=?ap]\n",
      "NP[SEM=(?det + ?n)] -> Det[SEM=?det] N[SEM=?n]\n",
      "PP[SEM=(?p + ?np)] -> P[SEM=?p] NP[SEM=?np]\n",
      "AP[SEM=?pp] -> A[SEM=?a] PP[SEM=?pp]\n",
      "NP[SEM='Country=\"greece\"'] -> 'Greece'\n",
      "NP[SEM='Country=\"china\"'] -> 'China'\n",
      "Det[SEM='SELECT'] -> 'Which' | 'What'\n",
      "N[SEM='City FROM city_table'] -> 'cities'\n",
      "IV[SEM=''] -> 'are'\n",
      "A[SEM=''] -> 'located'\n",
      "P[SEM=''] -> 'in'\n"
     ]
    }
   ],
   "source": [
    "# -*- coding:utf-8 -*-\n",
    "import nltk \n",
    "# book_grammars download\n",
    "nltk.data.show_cfg('sql0.fcfg')"
   ]
  },
  {
   "cell_type": "code",
   "execution_count": 15,
   "id": "9e83c7d8",
   "metadata": {},
   "outputs": [
    {
     "name": "stdout",
     "output_type": "stream",
     "text": [
      "['SELECT', 'City FROM city_table', 'WHERE', 'Country=\"china\"']\n",
      "SELECT City FROM city_table WHERE Country=\"china\"\n"
     ]
    }
   ],
   "source": [
    "# クエリを構文解析してSQLに変換\n",
    "from nltk import load_parser\n",
    "cp = load_parser('sql0.fcfg')\n",
    "query = 'What cities are located in China'\n",
    "trees = list(cp.parse(query.split()))\n",
    "answer = trees[0].label()['SEM']\n",
    "answer = [s for s in answer if s]\n",
    "print(answer)\n",
    "q = ' '.join(answer)\n",
    "print(q)"
   ]
  },
  {
   "cell_type": "code",
   "execution_count": 20,
   "id": "3e7fb459",
   "metadata": {},
   "outputs": [
    {
     "name": "stdout",
     "output_type": "stream",
     "text": [
      "canton chungking dairen harbin kowloon mukden peking shanghai sian tientsin "
     ]
    }
   ],
   "source": [
    "# city.dbに対してクエリを実行し，結果を得る．\n",
    "from nltk.sem import chat80\n",
    "rows = chat80.sql_query('corpora/city_database/city.db', q)\n",
    "for r in rows:\n",
    "    print(r[0], end=\" \")"
   ]
  },
  {
   "cell_type": "markdown",
   "id": "88c90ddd",
   "metadata": {},
   "source": [
    "ここではコンピュータが自然言語で書かれた問合せに対して有用なデータを返すというタスクを定義して，英語の小さなサブセットをSQLに翻訳することによってこれを実装した．\n",
    "\n",
    "PythonはSQLクエリをデータベースに対して実行できるため，NLTKのコードはSQLをすでに「理解」できている．つまり「What cities are located in Chiha」というようなクエリを「理解」することもできる，"
   ]
  },
  {
   "cell_type": "markdown",
   "id": "27f554ab",
   "metadata": {},
   "source": [
    "### 10.1.2 自然言語，意味論，論理"
   ]
  },
  {
   "cell_type": "markdown",
   "id": "b7ce7da6",
   "metadata": {},
   "source": [
    "#### 意味論における2つの概念\n",
    "- 表明文が「ある状況において真もしくは偽」\n",
    "- 限定された名詞句や固有名詞は「世界における実態に対応する」\n",
    "\n",
    "状況における真偽値という概念は，推論のための強力なツールになる．とりわけ文のセットを考えると，それらがある状況において同時に真になるかどうかを問うことができる．文によって整合である2文と不整合な2文というのが実世界には存在するが，推論能力において言及すれば，実世界において何が真で何が偽であるかに依存しない．つまり推論能力において正しく真偽を判別するためには実世界において何が真で何が偽であるかという事実についても知る必要がある．\n",
    "\n",
    "論理言語の構文は整合か不整合かを判別する特徴が形式的に明確になるよう設計されている．そのため整合性のような性質を決定することはコンピュータによって実行可能なタスクとして還元できる．"
   ]
  },
  {
   "cell_type": "markdown",
   "id": "0e81085b",
   "metadata": {},
   "source": [
    "## 10.2 命題論理学"
   ]
  },
  {
   "cell_type": "code",
   "execution_count": 24,
   "id": "77307cee",
   "metadata": {},
   "outputs": [
    {
     "data": {
      "text/plain": [
       "<function nltk.sem.logic.boolean_ops()>"
      ]
     },
     "execution_count": 24,
     "metadata": {},
     "output_type": "execute_result"
    }
   ],
   "source": [
    "# nltkにおいて命題論理を扱う\n",
    "import nltk\n",
    "nltk.boolean_ops"
   ]
  },
  {
   "cell_type": "code",
   "execution_count": null,
   "id": "5c82a6b7",
   "metadata": {},
   "outputs": [],
   "source": [
    "read_expr = nltk.sem.Expression.fromstring\n",
    "read_expr('-(P & Q)')\n",
    "read_expr('(P & Q)')\n",
    "read_expr('P | (R -> Q)')\n",
    "read_expr('P <-> --P')"
   ]
  },
  {
   "cell_type": "code",
   "execution_count": 40,
   "id": "b8755eb4",
   "metadata": {},
   "outputs": [
    {
     "data": {
      "text/plain": [
       "True"
      ]
     },
     "execution_count": 40,
     "metadata": {},
     "output_type": "execute_result"
    }
   ],
   "source": [
    "val = nltk.Valuation([('P', True), ('Q', True), ('R', False)])\n",
    "val['P']\n",
    "val['R']\n",
    "val['Q']"
   ]
  },
  {
   "cell_type": "code",
   "execution_count": 42,
   "id": "485e8fdd",
   "metadata": {},
   "outputs": [],
   "source": [
    "# 現時点ではdomとgパラメータは無視しておく．\n",
    "dom = set([])\n",
    "g = nltk.Assignment(dom)"
   ]
  },
  {
   "cell_type": "code",
   "execution_count": 44,
   "id": "8d139f88",
   "metadata": {},
   "outputs": [
    {
     "name": "stdout",
     "output_type": "stream",
     "text": [
      "True\n",
      "False\n",
      "False\n",
      "True\n"
     ]
    }
   ],
   "source": [
    "m = nltk.Model(dom, val)\n",
    "print(m.evaluate('(P & Q)', g))\n",
    "print(m.evaluate('-(P & Q)', g))\n",
    "print(m.evaluate('(P & R)', g))\n",
    "print(m.evaluate('(P | R)', g))"
   ]
  },
  {
   "cell_type": "markdown",
   "id": "ba76d566",
   "metadata": {},
   "source": [
    "ここまでは英語文を命題論理に翻訳してきた．しかし原子的な文をPやQなどの文字で表現することしかできてないので，内部構造まで掘り下げられていない．これは原子文を主語や目的語，述語に分割することに意味的な利点がないとしているようなものである．\n",
    "\n",
    "#### さらに複雑な論理へ\n",
    "一回述語論理と呼ばれる論理へと移行する．"
   ]
  },
  {
   "cell_type": "markdown",
   "id": "dffc8d8f",
   "metadata": {},
   "source": [
    "## 10.3 一階述語論理"
   ]
  },
  {
   "cell_type": "markdown",
   "id": "0a9af5bd",
   "metadata": {},
   "source": [
    "#### 計算意味論的利点\n",
    "一階述語理論は意味論の多くの側面を表現できるうえに，この論理用の自動推論を実行する素晴らしいシステムはすぐに手に入る．"
   ]
  },
  {
   "cell_type": "code",
   "execution_count": 48,
   "id": "0da6b7ca",
   "metadata": {},
   "outputs": [
    {
     "data": {
      "text/plain": [
       "<e,?>"
      ]
     },
     "execution_count": 48,
     "metadata": {},
     "output_type": "execute_result"
    }
   ],
   "source": [
    "read_expr = nltk.sem.Expression.fromstring\n",
    "expr = read_expr('walk(angus)', type_check=True)\n",
    "expr.argument\n",
    "expr.argument.type\n",
    "expr.function\n",
    "expr.function.type"
   ]
  },
  {
   "cell_type": "code",
   "execution_count": 49,
   "id": "92392639",
   "metadata": {},
   "outputs": [
    {
     "data": {
      "text/plain": [
       "e"
      ]
     },
     "execution_count": 49,
     "metadata": {},
     "output_type": "execute_result"
    }
   ],
   "source": [
    "# 型チェッカーはなるべく多くの方を推定しようとするためシグネチャを作成\n",
    "sig = {'walk': '<e, t>'}\n",
    "expr = read_expr('walk(angus)', signature=sig)\n",
    "expr.function.type"
   ]
  },
  {
   "cell_type": "markdown",
   "id": "7acf6a02",
   "metadata": {},
   "source": [
    "### 10.3.1 構文"
   ]
  },
  {
   "cell_type": "markdown",
   "id": "13bebc8a",
   "metadata": {},
   "source": [
    "### 10.3.2 一階定理証明"
   ]
  },
  {
   "cell_type": "markdown",
   "id": "e9cd4e54",
   "metadata": {},
   "source": [
    "### 10.3.3 一階述語論理言語のまとめ"
   ]
  },
  {
   "cell_type": "markdown",
   "id": "82381f46",
   "metadata": {},
   "source": [
    "### 10.3.4 モデルにおける真偽値"
   ]
  },
  {
   "cell_type": "markdown",
   "id": "ee5be9b2",
   "metadata": {},
   "source": [
    "### 10.3.5 個体変数と代入"
   ]
  },
  {
   "cell_type": "markdown",
   "id": "a7b5e1f8",
   "metadata": {},
   "source": [
    "### 10.3.6 量化子"
   ]
  },
  {
   "cell_type": "markdown",
   "id": "7d1dfcba",
   "metadata": {},
   "source": [
    "### 10.3.7 量化子スコープの曖昧さ"
   ]
  },
  {
   "cell_type": "markdown",
   "id": "9cc3ec1b",
   "metadata": {},
   "source": [
    "### 10.3.8 モデルの構築"
   ]
  },
  {
   "cell_type": "markdown",
   "id": "fd8c025f",
   "metadata": {},
   "source": [
    "## 10.4 英語文の意味論"
   ]
  },
  {
   "cell_type": "markdown",
   "id": "0f3ec519",
   "metadata": {},
   "source": [
    "## 10.5 談話意味論"
   ]
  },
  {
   "cell_type": "markdown",
   "id": "838cb672",
   "metadata": {},
   "source": [
    "## 10.6 まとめ"
   ]
  },
  {
   "cell_type": "code",
   "execution_count": null,
   "id": "4d46cd53",
   "metadata": {},
   "outputs": [],
   "source": []
  }
 ],
 "metadata": {
  "kernelspec": {
   "display_name": "Python 3 (ipykernel)",
   "language": "python",
   "name": "python3"
  },
  "language_info": {
   "codemirror_mode": {
    "name": "ipython",
    "version": 3
   },
   "file_extension": ".py",
   "mimetype": "text/x-python",
   "name": "python",
   "nbconvert_exporter": "python",
   "pygments_lexer": "ipython3",
   "version": "3.9.7"
  }
 },
 "nbformat": 4,
 "nbformat_minor": 5
}
